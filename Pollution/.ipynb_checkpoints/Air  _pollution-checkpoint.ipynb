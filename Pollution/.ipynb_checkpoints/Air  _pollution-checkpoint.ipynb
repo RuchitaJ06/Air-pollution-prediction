{
 "cells": [
  {
   "cell_type": "code",
   "execution_count": 1,
   "id": "8f00d279",
   "metadata": {},
   "outputs": [
    {
     "name": "stdout",
     "output_type": "stream",
     "text": [
      "['world_air_quality.csv']\n",
      "      Country Code                                             City  \\\n",
      "0               JP                                              NaN   \n",
      "1               JP                                              NaN   \n",
      "2               JP                                              NaN   \n",
      "3               JP                                              NaN   \n",
      "4               JP                                              NaN   \n",
      "...            ...                                              ...   \n",
      "54250           IT         MONITORING NETWORK OF REGIONE BASILICATA   \n",
      "54251           IT          RETE REGIONALE QUALITA' ARIA DEL VENETO   \n",
      "54252           IT  RETE REGIONALE QUALITA' DELL'ARIA DELLA TOSCANA   \n",
      "54253           IT  RETE REGIONALE QUALITA' DELL'ARIA DELLA TOSCANA   \n",
      "54254           IT  RETE REGIONALE QUALITA' DELL'ARIA DELLA TOSCANA   \n",
      "\n",
      "                Location                            Coordinates Pollutant  \\\n",
      "0      北九州市小倉北区大門一丁目６－４８                  33.880833, 130.873056        NO   \n",
      "1       北九州市若松区本町三丁目１３－１                      33.898056, 130.81       NO2   \n",
      "2       北九州市門司区大里原町１２－１２                  33.895833, 130.935833       NOX   \n",
      "3              千歳市若草４－１３                     42.786944, 141.605       NO2   \n",
      "4        千葉市稲毛区宮野木町９９６－９                  35.653889, 140.097778       NOX   \n",
      "...                  ...                                    ...       ...   \n",
      "54250         NET.IT133A  40.64389299999999, 15.872893000000001        CO   \n",
      "54251         NET.IT281A                   46.030833, 11.905833        O3   \n",
      "54252         NET.IT279A                     43.55472, 10.32972        CO   \n",
      "54253         NET.IT279A           43.91611, 11.006939999999998     PM2.5   \n",
      "54254         NET.IT279A           43.91611, 11.006939999999998        O3   \n",
      "\n",
      "          Source Name   Unit    Value               Last Updated Country Label  \n",
      "0      japan-soramame    ppm    0.002  2024-03-10T13:30:00+05:30         Japan  \n",
      "1      japan-soramame    ppm    0.005  2024-03-10T13:30:00+05:30         Japan  \n",
      "2      japan-soramame    ppm    0.013  2024-03-10T13:30:00+05:30         Japan  \n",
      "3      japan-soramame    ppm    0.004  2024-03-10T13:30:00+05:30         Japan  \n",
      "4      japan-soramame    ppm    0.003  2024-03-10T13:30:00+05:30         Japan  \n",
      "...               ...    ...      ...                        ...           ...  \n",
      "54250       EEA Italy  µg/m³  295.000  2024-03-11T15:30:00+05:30         Italy  \n",
      "54251       EEA Italy  µg/m³   35.000  2024-03-11T15:30:00+05:30         Italy  \n",
      "54252       EEA Italy  µg/m³  600.000  2024-03-11T15:30:00+05:30         Italy  \n",
      "54253       EEA Italy  µg/m³   15.000  2024-03-11T04:30:00+05:30         Italy  \n",
      "54254       EEA Italy  µg/m³   30.000  2024-03-11T15:30:00+05:30         Italy  \n",
      "\n",
      "[54255 rows x 10 columns]\n"
     ]
    }
   ],
   "source": [
    "import pandas as pd\n",
    "import matplotlib.pyplot as plt\n",
    "import sklearn\n",
    "import zipfile\n",
    "\n",
    "zip_path = \"C:/Users/ruchi/Downloads/archive (4).zip\"\n",
    "with zipfile.ZipFile(zip_path, 'r') as z:\n",
    "    print(z.namelist())\n",
    "    with z.open(\"world_air_quality.csv\") as file:\n",
    "        df = pd.read_csv(file, delimiter=\";\")\n",
    "        \n",
    "print(df)        "
   ]
  },
  {
   "cell_type": "code",
   "execution_count": 2,
   "id": "a0598add",
   "metadata": {},
   "outputs": [
    {
     "name": "stdout",
     "output_type": "stream",
     "text": [
      "<class 'pandas.core.frame.DataFrame'>\n",
      "RangeIndex: 54255 entries, 0 to 54254\n",
      "Data columns (total 10 columns):\n",
      " #   Column         Non-Null Count  Dtype  \n",
      "---  ------         --------------  -----  \n",
      " 0   Country Code   54255 non-null  object \n",
      " 1   City           30209 non-null  object \n",
      " 2   Location       54253 non-null  object \n",
      " 3   Coordinates    54185 non-null  object \n",
      " 4   Pollutant      54255 non-null  object \n",
      " 5   Source Name    54255 non-null  object \n",
      " 6   Unit           54255 non-null  object \n",
      " 7   Value          54255 non-null  float64\n",
      " 8   Last Updated   54255 non-null  object \n",
      " 9   Country Label  54140 non-null  object \n",
      "dtypes: float64(1), object(9)\n",
      "memory usage: 4.1+ MB\n",
      "None\n"
     ]
    }
   ],
   "source": [
    "print(df.info())"
   ]
  },
  {
   "cell_type": "code",
   "execution_count": 3,
   "id": "b269eb81",
   "metadata": {},
   "outputs": [
    {
     "name": "stdout",
     "output_type": "stream",
     "text": [
      "Null value is: Country Code     0\n",
      "City             0\n",
      "Location         0\n",
      "Coordinates      0\n",
      "Pollutant        0\n",
      "Source Name      0\n",
      "Unit             0\n",
      "Value            0\n",
      "Last Updated     0\n",
      "Country Label    0\n",
      "dtype: int64\n",
      "Duplicate value is: 0\n",
      "Descibe data:               Value\n",
      "count  5.425500e+04\n",
      "mean   6.290627e+02\n",
      "std    2.927522e+04\n",
      "min   -4.905140e+04\n",
      "25%    2.125930e-01\n",
      "50%    9.200000e+00\n",
      "75%    3.253500e+01\n",
      "max    3.198676e+06\n",
      "<class 'pandas.core.frame.DataFrame'>\n",
      "RangeIndex: 54255 entries, 0 to 54254\n",
      "Data columns (total 10 columns):\n",
      " #   Column         Non-Null Count  Dtype  \n",
      "---  ------         --------------  -----  \n",
      " 0   Country Code   54255 non-null  object \n",
      " 1   City           30209 non-null  object \n",
      " 2   Location       54253 non-null  object \n",
      " 3   Coordinates    54185 non-null  object \n",
      " 4   Pollutant      54255 non-null  object \n",
      " 5   Source Name    54255 non-null  object \n",
      " 6   Unit           54255 non-null  object \n",
      " 7   Value          54255 non-null  float64\n",
      " 8   Last Updated   54255 non-null  object \n",
      " 9   Country Label  54140 non-null  object \n",
      "dtypes: float64(1), object(9)\n",
      "memory usage: 4.1+ MB\n",
      "Information about data: None\n"
     ]
    }
   ],
   "source": [
    "print(\"Null value is:\", df.fillna(0).isnull().sum())\n",
    "print(\"Duplicate value is:\", df.duplicated().sum())\n",
    "print(\"Descibe data:\", df.describe())\n",
    "print(\"Information about data:\", df.info())"
   ]
  },
  {
   "cell_type": "code",
   "execution_count": 4,
   "id": "bdc96677",
   "metadata": {},
   "outputs": [
    {
     "name": "stdout",
     "output_type": "stream",
     "text": [
      "Index(['Country Code', 'City', 'Location', 'Coordinates', 'Pollutant',\n",
      "       'Source Name', 'Unit', 'Last Updated', 'Country Label'],\n",
      "      dtype='object')\n",
      "Index(['Value'], dtype='object')\n"
     ]
    }
   ],
   "source": [
    "print(df.select_dtypes(include = 'object').columns)\n",
    "print(df.select_dtypes(include = 'float64').columns)"
   ]
  },
  {
   "cell_type": "code",
   "execution_count": 5,
   "id": "bfe625e2",
   "metadata": {},
   "outputs": [],
   "source": [
    "Q1 = df['Value'].quantile(0.25)\n",
    "Q3 = df['Value'].quantile(0.75)\n",
    "\n",
    "IQR = Q3 - Q1\n",
    "\n",
    "df_cleaned = df[~((df['Value'] < (Q1 - 1.5*IQR)) | (df['Value'] > (Q3 + 1.5 * IQR)))]"
   ]
  },
  {
   "cell_type": "code",
   "execution_count": 6,
   "id": "1f73afea",
   "metadata": {},
   "outputs": [
    {
     "name": "stderr",
     "output_type": "stream",
     "text": [
      "C:\\Users\\ruchi\\AppData\\Local\\Temp\\ipykernel_14180\\1223373118.py:1: SettingWithCopyWarning: \n",
      "A value is trying to be set on a copy of a slice from a DataFrame.\n",
      "Try using .loc[row_indexer,col_indexer] = value instead\n",
      "\n",
      "See the caveats in the documentation: https://pandas.pydata.org/pandas-docs/stable/user_guide/indexing.html#returning-a-view-versus-a-copy\n",
      "  df_cleaned['Value'] = df_cleaned['Value'].apply(lambda x: 0 if x < 0 else x)\n"
     ]
    }
   ],
   "source": [
    "df_cleaned['Value'] = df_cleaned['Value'].apply(lambda x: 0 if x < 0 else x)"
   ]
  },
  {
   "cell_type": "code",
   "execution_count": 7,
   "id": "da1479d8",
   "metadata": {},
   "outputs": [],
   "source": [
    "Q1 = df['Value'].quantile(0.01)\n",
    "Q3 = df['Value'].quantile(0.99)\n",
    "df = df[(df['Value'] >= Q1) & (df['Value'] <= Q3)]"
   ]
  },
  {
   "cell_type": "code",
   "execution_count": 8,
   "id": "dcd8a619",
   "metadata": {},
   "outputs": [],
   "source": [
    "df['Value'] = df['Value'].apply(lambda x: 0 if x < 0 else x)"
   ]
  },
  {
   "cell_type": "code",
   "execution_count": 9,
   "id": "4dad437b",
   "metadata": {},
   "outputs": [],
   "source": [
    "from scipy import stats\n",
    "df['z_score'] = stats.zscore(df['Value'])"
   ]
  },
  {
   "cell_type": "code",
   "execution_count": 10,
   "id": "58e837e1",
   "metadata": {},
   "outputs": [],
   "source": [
    "df = df[(df['z_score'] >= -3) & (df['z_score'] <=3)]"
   ]
  },
  {
   "cell_type": "code",
   "execution_count": 11,
   "id": "152f6d30",
   "metadata": {},
   "outputs": [],
   "source": [
    "import numpy as np\n",
    "df['Log_Value'] = np.log1p(df['Value'])"
   ]
  },
  {
   "cell_type": "code",
   "execution_count": 12,
   "id": "ccb11a2e",
   "metadata": {},
   "outputs": [
    {
     "name": "stdout",
     "output_type": "stream",
     "text": [
      "              Value       z_score     Log_Value\n",
      "count  51284.000000  51284.000000  51284.000000\n",
      "mean      28.543882     -0.169439      2.129299\n",
      "std       58.822118      0.429876      1.645478\n",
      "min        0.000000     -0.378039      0.000000\n",
      "25%        0.200000     -0.376578      0.182322\n",
      "50%        8.535058     -0.315665      2.254975\n",
      "75%       27.243250     -0.178944      3.340854\n",
      "max      462.000000      2.998290      6.137727\n"
     ]
    }
   ],
   "source": [
    "print(df.describe())"
   ]
  },
  {
   "cell_type": "code",
   "execution_count": null,
   "id": "bf450ce6",
   "metadata": {},
   "outputs": [],
   "source": [
    "from deep_translator import GoogleTranslator\n",
    "import time\n",
    "\n",
    "df['City'] = df['City'].fillna('')\n",
    "translation_cache = {}\n",
    "\n",
    "def translated_city(city_name):\n",
    "    if city_name in translation_cache:\n",
    "        return translation_cache[city_name]\n",
    "    \n",
    "    try:\n",
    "        translated = GoogleTranslator(source='auto', target='en').translate(city_name)\n",
    "        translation_cache[city_name] = translated\n",
    "        return translated\n",
    "    except Exception as e:\n",
    "        print(f\"Error translating {city_name}: {e}\")\n",
    "        time.sleep(1)  # Adding a short delay\n",
    "        return city_name\n",
    "\n",
    "# Applying translation to the column\n",
    "df['city_tranlated'] = df['City'].apply(translated_city)\n"
   ]
  },
  {
   "cell_type": "code",
   "execution_count": null,
   "id": "cfd3429a",
   "metadata": {},
   "outputs": [],
   "source": []
  }
 ],
 "metadata": {
  "kernelspec": {
   "display_name": "Python 3",
   "language": "python",
   "name": "python3"
  },
  "language_info": {
   "codemirror_mode": {
    "name": "ipython",
    "version": 3
   },
   "file_extension": ".py",
   "mimetype": "text/x-python",
   "name": "python",
   "nbconvert_exporter": "python",
   "pygments_lexer": "ipython3",
   "version": "3.12.10"
  }
 },
 "nbformat": 4,
 "nbformat_minor": 5
}
